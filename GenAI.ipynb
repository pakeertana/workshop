{
  "cells": [
    {
      "cell_type": "markdown",
      "metadata": {
        "id": "view-in-github",
        "colab_type": "text"
      },
      "source": [
        "<a href=\"https://colab.research.google.com/github/pakeertana/workshop/blob/main/GenAI.ipynb\" target=\"_parent\"><img src=\"https://colab.research.google.com/assets/colab-badge.svg\" alt=\"Open In Colab\"/></a>"
      ]
    },
    {
      "cell_type": "code",
      "execution_count": null,
      "metadata": {
        "colab": {
          "base_uri": "https://localhost:8080/"
        },
        "id": "jI7BIXosLwsy",
        "outputId": "800b6b3d-d66c-4dfa-cebd-1c4a6c0cab0b"
      },
      "outputs": [
        {
          "name": "stdout",
          "output_type": "stream",
          "text": [
            "\n",
            "Usage:   \n",
            "  pip3 install [options] <requirement specifier> [package-index-options] ...\n",
            "  pip3 install [options] -r <requirements file> [package-index-options] ...\n",
            "  pip3 install [options] [-e] <vcs project url> ...\n",
            "  pip3 install [options] [-e] <local project path> ...\n",
            "  pip3 install [options] <archive url/path> ...\n",
            "\n",
            "no such option: --quite\n"
          ]
        }
      ],
      "source": [
        "%pip install --upgrade --quite google-genai"
      ]
    },
    {
      "cell_type": "code",
      "execution_count": null,
      "metadata": {
        "id": "hclYfysuON0-"
      },
      "outputs": [],
      "source": [
        "import sys\n",
        "\n",
        "if \"google.colab\" in sys.modules:\n",
        "    from google.colab import auth\n",
        "\n",
        "    auth.authenticate_user()\n"
      ]
    },
    {
      "cell_type": "code",
      "execution_count": null,
      "metadata": {
        "id": "E7-bk6qhOzzL"
      },
      "outputs": [],
      "source": [
        "from google.colab import userdata\n",
        "from google import genai\n",
        "\n",
        "\n",
        "GOOGLE_API_KEY = userdata.get('GOOGLE_API_KEY')\n",
        "client = genai.Client(api_key=GOOGLE_API_KEY)\n"
      ]
    },
    {
      "cell_type": "code",
      "execution_count": null,
      "metadata": {
        "id": "OTB3f_KbO8D4"
      },
      "outputs": [],
      "source": [
        "MODEL_ID=\"gemini-2.5-flash\""
      ]
    },
    {
      "cell_type": "code",
      "execution_count": null,
      "metadata": {
        "colab": {
          "base_uri": "https://localhost:8080/",
          "height": 123
        },
        "id": "t8_VibppRpMU",
        "outputId": "8dd2da61-1f24-44fe-8eea-ca34f7599040"
      },
      "outputs": [
        {
          "data": {
            "application/vnd.google.colaboratory.intrinsic+json": {
              "type": "string"
            },
            "text/plain": [
              "'An AI workshop is a fantastic opportunity to dive into the world of Artificial Intelligence, often with a mix of theory, practical application, and interactive elements. What you can do specifically will depend on the workshop\\'s focus, duration, and target audience (beginner, intermediate, advanced).\\n\\nHowever, here\\'s a comprehensive list of common activities and learning experiences you can expect in an AI workshop:\\n\\n---\\n\\n### **I. Foundational Learning & Concepts**\\n\\n1.  **Understand AI Fundamentals:**\\n    *   Learn what AI is, its history, and key concepts (Machine Learning, Deep Learning, Natural Language Processing, Computer Vision).\\n    *   Differentiate between various AI subfields and their applications.\\n    *   Grasp the \"hype vs. reality\" of AI.\\n\\n2.  **Explore Machine Learning Basics:**\\n    *   Understand supervised vs. unsupervised learning.\\n    *   Learn about common ML algorithms (e.g., linear regression, logistic regression, decision trees, k-NN).\\n    *   Concepts like training data, testing data, overfitting, and accuracy.\\n\\n3.  **Introduction to Deep Learning (if applicable):**\\n    *   Understand the basics of neural networks.\\n    *   Grasp concepts like layers, activation functions, and backpropagation (at a high level).\\n\\n4.  **Data Understanding:**\\n    *   Learn about the importance of data in AI.\\n    *   Understand different types of data (structured, unstructured).\\n    *   Concepts like data collection, cleaning, and preparation.\\n\\n5.  **Ethical Considerations & Bias:**\\n    *   Discuss the societal impact of AI.\\n    *   Learn about issues like bias in AI models, privacy concerns, and responsible AI development.\\n    *   Engage in debates about the future of AI and its implications.\\n\\n---\\n\\n### **II. Hands-On & Practical Activities**\\n\\nThese are often the most valuable parts of an AI workshop!\\n\\n1.  **Coding Exercises (often in Python):**\\n    *   **Setting up Environments:** Learn to use tools like Jupyter Notebooks or Google Colab.\\n    *   **Data Preprocessing:** Write code to load, clean, and prepare datasets.\\n    *   **Building Simple Models:**\\n        *   Implement basic machine learning models (e.g., a simple linear regression model to predict house prices, or a logistic regression model to classify spam).\\n        *   Train and evaluate these models using libraries like Scikit-learn.\\n    *   **Neural Networks (for Deep Learning workshops):** Build and train a basic neural network using libraries like Keras or TensorFlow.\\n    *   **Interacting with APIs:** Use Python to interact with pre-trained AI models (e.g., OpenAI\\'s GPT models or DALL-E for text/image generation).\\n\\n2.  **No-Code/Low-Code AI Tools:**\\n    *   **Google Teachable Machine:** Train custom image, audio, or pose recognition models with just your browser and a webcam – no coding required.\\n    *   **Azure Custom Vision / AWS Rekognition:** Experiment with cloud-based image recognition services to train custom object detectors or classifiers.\\n    *   **Hugging Face Spaces:** Play with pre-trained large language models (LLMs) and other AI models through user-friendly interfaces.\\n    *   **Experiment with AI Art Generators:** Use tools like Midjourney or Stable Diffusion (or their web interfaces) to understand generative AI.\\n\\n3.  **Data Visualization:**\\n    *   Use tools/libraries (like Matplotlib, Seaborn, or even Excel/Google Sheets) to visualize datasets and model performance.\\n    *   Understand how to interpret charts and graphs related to AI data.\\n\\n4.  **Running Pre-trained Models:**\\n    *   Download and run pre-trained models (e.g., for sentiment analysis, object detection, or language translation) to see AI in action without building from scratch.\\n    *   Experiment with different inputs to see how the models respond.\\n\\n5.  **Mini-Projects / Challenges:**\\n    *   Work individually or in small groups to solve a specific, simplified AI problem. Examples:\\n        *   Classify types of flowers based on their features.\\n        *   Predict customer churn.\\n        *   Develop a basic chatbot.\\n        *   Create a simple image classifier for specific objects.\\n    *   Present your findings or solutions to the group.\\n\\n---\\n\\n### **III. Interactive & Collaborative Activities**\\n\\n1.  **Q&A Sessions:**\\n    *   Ask instructors or AI experts questions about the concepts, tools, or career paths.\\n\\n2.  **Brainstorming Sessions:**\\n    *   Discuss real-world problems that AI could solve in various industries (healthcare, finance, entertainment, etc.).\\n    *   Generate ideas for AI applications.\\n\\n3.  **Case Study Analysis:**\\n    *   Review successful (and sometimes unsuccessful) real-world AI implementations.\\n    *   Analyze the challenges and solutions involved.\\n\\n4.  **Networking:**\\n    *   Meet other participants who are interested in AI.\\n    *   Connect with instructors or industry professionals.\\n\\n5.  **Guest Speaker Sessions:**\\n    *   Listen to professionals working in AI share their experiences, insights, and career advice.\\n\\n---\\n\\n### **IV. Resources & Next Steps**\\n\\n1.  **Resource Sharing:** Get recommendations for further learning (books, online courses, communities, research papers).\\n2.  **Career Guidance:** Learn about different career paths in AI and what skills are in demand.\\n3.  **Project Ideas:** Get inspired for personal AI projects you can work on after the workshop.\\n\\n---\\n\\n**In summary, an AI workshop is a dynamic learning environment where you can:**\\n\\n*   **Learn fundamental AI concepts.**\\n*   **Gain hands-on experience by building simple AI models (with or without code).**\\n*   **Experiment with powerful AI tools and pre-trained models.**\\n*   **Discuss the ethical implications and future of AI.**\\n*   **Network with like-minded individuals and experts.**\\n\\nIt\\'s a great way to kickstart your journey into Artificial Intelligence or deepen your existing knowledge!'"
            ]
          },
          "execution_count": 19,
          "metadata": {},
          "output_type": "execute_result"
        }
      ],
      "source": [
        "prompt=\"what can i do in AI workshop\"\n",
        "response= client.models.generate_content(model=MODEL_ID,contents=prompt)\n",
        "response.text"
      ]
    },
    {
      "cell_type": "code",
      "execution_count": null,
      "metadata": {
        "id": "3HcvgmuWU2x5"
      },
      "outputs": [],
      "source": [
        "from IPython.display import Markdown, display\n",
        "from google import genai\n",
        "from google.genai.types import GenerateContentConfig"
      ]
    },
    {
      "cell_type": "code",
      "execution_count": null,
      "metadata": {
        "id": "-DRdyi4Xphu-"
      },
      "outputs": [],
      "source": []
    },
    {
      "cell_type": "code",
      "execution_count": null,
      "metadata": {
        "colab": {
          "base_uri": "https://localhost:8080/",
          "height": 128
        },
        "id": "hleQ4VcsVHiM",
        "outputId": "34630176-8a68-4ad8-f31a-5b5fdafc2617"
      },
      "outputs": [
        {
          "data": {
            "text/markdown": "Hello! I am AJIET bot, nice to meet you.\n\nI am designed for:\n*   Assisting users with information.\n*   Generating text based on various prompts and questions.\n*   Engaging in conversations to provide helpful and creative content.",
            "text/plain": [
              "<IPython.core.display.Markdown object>"
            ]
          },
          "metadata": {},
          "output_type": "display_data"
        }
      ],
      "source": [
        "generation_config= GenerateContentConfig(temperature=1.0)\n",
        "prompt=\"\"\"Your name is AJIET bot, first you always need to greet the user. try to answer the question follwed by that :\n",
        "<<instruction>>\n",
        "answer should be short text with bullets\n",
        "<<question>>What you are designed for\"\"\"\n",
        "response=client.models.generate_content(model=MODEL_ID,contents=prompt)\n",
        "display(Markdown(response.text))"
      ]
    },
    {
      "cell_type": "code",
      "execution_count": null,
      "metadata": {
        "colab": {
          "base_uri": "https://localhost:8080/",
          "height": 46
        },
        "id": "0_h1_CLJiAe5",
        "outputId": "8d662182-e666-4d5b-d85a-c4eaafbce53d"
      },
      "outputs": [
        {
          "data": {
            "text/markdown": "Tweet:Something surprised me about this video-it was actually original. It was not\nSentiment:neutral\nTweet: It was okay okay\nSentiment:neutral",
            "text/plain": [
              "<IPython.core.display.Markdown object>"
            ]
          },
          "metadata": {},
          "output_type": "display_data"
        }
      ],
      "source": [
        "prompt=\"\"\"Decide whether a Tweet's sentiment is positive ,neutral or negative.\n",
        "Tweet\"I loved the new YouTube video you made!\n",
        "Sentimate:positive\n",
        "\n",
        "Tweet:That was awful. Super boring\n",
        "Sentiment:negative\n",
        "\n",
        "Tweet:Something surprised me about this video-it was actually original. It was not\n",
        "Sentiment:\n",
        "Tweet: It was okay okay\n",
        "Sentiment:\"\"\"\n",
        "\n",
        "\n",
        "response=client.models.generate_content(model=MODEL_ID,contents=prompt)\n",
        "display(Markdown(response.text))"
      ]
    },
    {
      "cell_type": "code",
      "execution_count": null,
      "metadata": {
        "colab": {
          "base_uri": "https://localhost:8080/",
          "height": 86
        },
        "id": "kmR49qQreCSH",
        "outputId": "9b373ef6-7407-4041-b9ad-6a02ee73d417"
      },
      "outputs": [
        {
          "data": {
            "text/markdown": "```json\n{\n  \"english\": \"i want to plan my weekend in mangalore\",\n  \"tulu\": \"ಎಂಕ್ಲೆಗ್ ಮಂಗಳೂರುಡು ಎಂಕ್ಲೆಡ ವೀಕೆಂಡ್ ಪ್ಲಾನ್ ಮಲ್ಪೆರೆ ಬೋಡು.\"\n}\n```",
            "text/plain": [
              "<IPython.core.display.Markdown object>"
            ]
          },
          "metadata": {},
          "output_type": "display_data"
        }
      ],
      "source": [
        "generation_config= GenerateContentConfig(temperature=1.0)\n",
        "chat= client.chats.create(\n",
        "    model=MODEL_ID,\n",
        "    config=GenerateContentConfig(\n",
        "        system_instruction=[\n",
        "            \"You're a language translator.\",\n",
        "            \"Your mission is to translate text in English to tulu.\",\n",
        "            \"output response:output should be a clean json data\"\n",
        "        ]\n",
        "    ),\n",
        ")\n",
        "\n",
        "prompt=\"i want to plan my weekend in mangalore\"\n",
        "response=chat.send_message(prompt)\n",
        "display(Markdown(response.text))"
      ]
    },
    {
      "cell_type": "code",
      "execution_count": null,
      "metadata": {
        "id": "o3flRHZXlRG7"
      },
      "outputs": [],
      "source": [
        "from IPython.display import HTML, Image, Markdown, display\n",
        "from google import genai\n",
        "from google.genai.types import (\n",
        "    FunctionDeclaration,\n",
        "    GenerateContentConfig,\n",
        "    GoogleSearch,\n",
        "    HarmBlockThreshold,\n",
        "    HarmCategory,\n",
        "    Part,\n",
        "    SafetySetting,\n",
        "    ThinkingConfig,\n",
        "\n",
        "    Tool,\n",
        "    ToolCodeExecution,\n",
        ")"
      ]
    },
    {
      "cell_type": "code",
      "execution_count": null,
      "metadata": {
        "colab": {
          "base_uri": "https://localhost:8080/",
          "height": 285
        },
        "id": "OjGe3jxnmXZp",
        "outputId": "07b621d4-279c-4e6e-dff6-a4f4eeec725a"
      },
      "outputs": [
        {
          "data": {
            "text/markdown": "Welcome to the lab! That's an excellent way to start – by setting the scene. We're in a dynamic environment here, ready to tackle your first question.\n\n**Don't worry about it being your \"first question.\"** In a lab, every question, every observation, every hypothesis is valuable. We're here to explore, experiment, and learn.\n\n**So, what's on your mind? What's the problem or phenomenon you're curious about today?**\n\nLay it out for me. I'm ready to assist with:\n\n*   **Understanding concepts**\n*   **Designing experiments**\n*   **Analyzing data**\n*   **Troubleshooting issues**\n*   **Brainstorming new ideas**\n*   **Finding relevant information**\n*   **Or anything else that comes up in our \"lab\" setting!**\n\nLet's begin!",
            "text/plain": [
              "<IPython.core.display.Markdown object>"
            ]
          },
          "metadata": {},
          "output_type": "display_data"
        }
      ],
      "source": [
        "response=client.models.generate_content(\n",
        "    model=MODEL_ID,\n",
        "    contents=\"this is my first question, remeber that you are in lab\",\n",
        "    config=GenerateContentConfig(\n",
        "        thinking_config=ThinkingConfig(\n",
        "            thinking_budget=0 )\n",
        "\n",
        "),\n",
        ")\n",
        "display(Markdown(response.text))"
      ]
    },
    {
      "cell_type": "code",
      "execution_count": null,
      "metadata": {
        "colab": {
          "base_uri": "https://localhost:8080/",
          "height": 70
        },
        "id": "cH-fKf-Ep0J6",
        "outputId": "a8226775-a086-48aa-b91b-42547ae040dd"
      },
      "outputs": [
        {
          "data": {
            "text/markdown": "As an AI, I don't have access to past conversations or any personal information about you. I can't know what you said last.\n\nIf you're wondering what you said in a previous interaction with me, you'll need to remember or find a record of that conversation yourself.",
            "text/plain": [
              "<IPython.core.display.Markdown object>"
            ]
          },
          "metadata": {},
          "output_type": "display_data"
        }
      ],
      "source": [
        "response=client.models.generate_content(\n",
        "    model=MODEL_ID,\n",
        "    contents=\"what did i say last\",\n",
        "    config=GenerateContentConfig(\n",
        "        thinking_config=ThinkingConfig(\n",
        "            thinking_budget=0 )\n",
        "\n",
        "),\n",
        ")\n",
        "display(Markdown(response.text))"
      ]
    },
    {
      "cell_type": "code",
      "execution_count": null,
      "metadata": {
        "id": "0UfzGcNm6RHK"
      },
      "outputs": [],
      "source": []
    },
    {
      "cell_type": "code",
      "execution_count": null,
      "metadata": {
        "id": "0wxr4h9O5oKC"
      },
      "outputs": [],
      "source": [
        "chat=client.chats.create(model=MODEL_ID,\n",
        "                         config=GenerateContentConfig(\n",
        "        thinking_config=ThinkingConfig(\n",
        "            thinking_budget=0 )\n",
        "\n",
        "),\n",
        ")"
      ]
    },
    {
      "cell_type": "code",
      "execution_count": null,
      "metadata": {
        "colab": {
          "base_uri": "https://localhost:8080/"
        },
        "id": "8Q5WLYwy6qfS",
        "outputId": "7aebf288-d1a7-464c-9a86-60bb7e5b365d"
      },
      "outputs": [
        {
          "data": {
            "text/plain": [
              "<google.genai.chats.Chat at 0x7969ab4cbad0>"
            ]
          },
          "execution_count": 32,
          "metadata": {},
          "output_type": "execute_result"
        }
      ],
      "source": [
        "chat"
      ]
    },
    {
      "cell_type": "code",
      "execution_count": null,
      "metadata": {
        "colab": {
          "base_uri": "https://localhost:8080/",
          "height": 46
        },
        "id": "p0L4nwiz6shF",
        "outputId": "d0b81d23-7ffd-4bd3-ed07-765eb11830f2"
      },
      "outputs": [
        {
          "data": {
            "text/markdown": "Okay, so the HOD of CSE at AJIET is Antony P. J. I've noted that.",
            "text/plain": [
              "<IPython.core.display.Markdown object>"
            ]
          },
          "metadata": {},
          "output_type": "display_data"
        }
      ],
      "source": [
        "response=chat.send_message(\"HOD of cse at AJIET is Antony P J\")\n",
        "display(Markdown(response.text))"
      ]
    },
    {
      "cell_type": "code",
      "execution_count": null,
      "metadata": {
        "colab": {
          "base_uri": "https://localhost:8080/",
          "height": 46
        },
        "id": "P21FB0D37Gn3",
        "outputId": "82d5d217-4684-4407-9886-6d78991f31ba"
      },
      "outputs": [
        {
          "data": {
            "text/markdown": "You said, \"Good afternoon.\"",
            "text/plain": [
              "<IPython.core.display.Markdown object>"
            ]
          },
          "metadata": {},
          "output_type": "display_data"
        }
      ],
      "source": [
        "response=chat.send_message(\"what did i say first\")\n",
        "display(Markdown(response.text))"
      ]
    },
    {
      "cell_type": "code",
      "execution_count": null,
      "metadata": {
        "id": "0gNTrlP67fdX"
      },
      "outputs": [],
      "source": []
    },
    {
      "cell_type": "code",
      "execution_count": null,
      "metadata": {
        "colab": {
          "base_uri": "https://localhost:8080/",
          "height": 46
        },
        "id": "JRmn9p857NuK",
        "outputId": "cbbc7dd6-17c4-45a6-b46f-340127bf3528"
      },
      "outputs": [
        {
          "data": {
            "text/markdown": "Okay, so in the afternoon, you covered the memory part of Gemini. Got it.",
            "text/plain": [
              "<IPython.core.display.Markdown object>"
            ]
          },
          "metadata": {},
          "output_type": "display_data"
        }
      ],
      "source": [
        "response=chat.send_message(\"In the afternoon i did cover the memory part of gemini\")\n",
        "display(Markdown(response.text))"
      ]
    },
    {
      "cell_type": "code",
      "execution_count": null,
      "metadata": {
        "colab": {
          "base_uri": "https://localhost:8080/",
          "height": 110
        },
        "id": "Ns8ElpHp7WFg",
        "outputId": "4d318bdf-2ce3-4a2e-c42b-97f18029bc4c"
      },
      "outputs": [
        {
          "data": {
            "text/markdown": "It seems like we're having a conversation where you're testing my ability to remember what you've said.\n\nYou first told me to \"rember what i say\" and then greeted me.\nAfter I responded, you asked \"what did i say first?\" to which I correctly answered \"Good afternoon.\"\nThen you gave me another piece of information: \"In the afternoon i did cover the memory part of gemini.\"\nAnd now you're asking \"Whats happening here?\"\n\nEssentially, you're giving me information and then sometimes asking me to recall it or confirm my understanding.",
            "text/plain": [
              "<IPython.core.display.Markdown object>"
            ]
          },
          "metadata": {},
          "output_type": "display_data"
        }
      ],
      "source": [
        "response=chat.send_message(\"Whats happening here\")\n",
        "display(Markdown(response.text))"
      ]
    },
    {
      "cell_type": "code",
      "execution_count": null,
      "metadata": {
        "colab": {
          "base_uri": "https://localhost:8080/",
          "height": 1000
        },
        "id": "YYTFY49w9ACf",
        "outputId": "c2c835a6-cec1-4d28-eeae-b48db3bd14ef"
      },
      "outputs": [
        {
          "data": {
            "text/markdown": "As of July 25, 2025, the State Bank of India (SBI) share price is approximately ₹806.50 to ₹806.55 on both the National Stock Exchange (NSE) and the Bombay Stock Exchange (BSE). This represents a decrease of around 1.13% to 1.15% compared to its last closing price.\n\nHere are some additional details:\n*   The 52-week low for SBI share price was ₹679.65 and the 52-week high was ₹889.00.\n*   The market capitalization of State Bank of India is around ₹4,57,609.5 Cr.\n*   The stock's TTM P/E is 8.88, and the sector P/E is 9.31.\n*   The dividend yield is 1.95%.",
            "text/plain": [
              "<IPython.core.display.Markdown object>"
            ]
          },
          "metadata": {},
          "output_type": "display_data"
        },
        {
          "name": "stdout",
          "output_type": "stream",
          "text": [
            "grounding_chunks=[GroundingChunk(\n",
            "  web=GroundingChunkWeb(\n",
            "    title='livemint.com',\n",
            "    uri='https://vertexaisearch.cloud.google.com/grounding-api-redirect/AUZIYQFSL5o-GUUicjLX4hvpkkhZiOththhI-qB2UVaTVfLSIbzWVfto_EOUM2KWO6zJEF-HCP1W7GlULjlfiMPL__tDjbMtEloHpmPm8yrHKTLmZC1wTh5pSj55jkwt8yf8T1r7BY3iwRg_YwRnkT-eP-1-slYl4BuzCBBry9ZIyfAyKRvoNVFniU4wrywls0Y8jZiCg7OH2VDt0ZHMiHziJPM='\n",
            "  )\n",
            "), GroundingChunk(\n",
            "  web=GroundingChunkWeb(\n",
            "    title='angelone.in',\n",
            "    uri='https://vertexaisearch.cloud.google.com/grounding-api-redirect/AUZIYQGNRvl30k46rfehTxRQAQIvm1gpDwmjhKe-tWsJhgjdVlKceDtP3aEL56-r6CcuPg4C1X-89MclhmKMcliG7XSUq-kfJtsACiRu4_XPhPGlIwQHppJzyO4-2CoIiPJb_kL7-KO947QzlZSgd9Tp'\n",
            "  )\n",
            "), GroundingChunk(\n",
            "  web=GroundingChunkWeb(\n",
            "    title='indiatimes.com',\n",
            "    uri='https://vertexaisearch.cloud.google.com/grounding-api-redirect/AUZIYQEhQSxgNHAkYnKfC1q-gSksLmoZ8DYpVjSyBy7QhC9uaCe78BY4hjAIyTjy4zIk4kVdUNTlCGEdEArjdIifqQ2MmmTWckhGRTFe1u2dQqQE0OXVJJ8fEzL6ZTA3EJffLVhkCiD5EuaxcJgB1PgpG-TMELfn2NQbN5Mt6R1XmRjFtfja7CpItXz3xD693ZG9'\n",
            "  )\n",
            "), GroundingChunk(\n",
            "  web=GroundingChunkWeb(\n",
            "    title='investing.com',\n",
            "    uri='https://vertexaisearch.cloud.google.com/grounding-api-redirect/AUZIYQGcfCuIUsALxDtDy-zoC0TavdPQq7PyGv0RFxH3ScURL9-zGYMP72YzjFtLlTglQC8eNJC2_uGMuuAmt3zEGER7EBpbromAVCbKgFzybHdrMLPQZcQ5QzxNRu0rJyDY-gb8_F6pxEyIAme-6HCo8z0-tg=='\n",
            "  )\n",
            "), GroundingChunk(\n",
            "  web=GroundingChunkWeb(\n",
            "    title='niftytrader.in',\n",
            "    uri='https://vertexaisearch.cloud.google.com/grounding-api-redirect/AUZIYQE0qOkdFQ4l7TZvrYGxyWwNZ1h7tn_HOlBMj-U0N3_H7l6JIclEMQjypO5-HNou-3QWg7o523kdSrBqJzsXcYd12xlGs8ktG1eopfsjB7bCwLIuoONY8wPkKivosoZuj3-cXM3Ztc0z'\n",
            "  )\n",
            "), GroundingChunk(\n",
            "  web=GroundingChunkWeb(\n",
            "    title='icicidirect.com',\n",
            "    uri='https://vertexaisearch.cloud.google.com/grounding-api-redirect/AUZIYQHLo6kgm9QACsJhL1E4CFHpM_uVEaCHpVTVzOqL49m2WF8TFAYZx7qnHVFH-qD9rGbfdFNlDKy1KnKSgygk1sYnHMVzOLgSjUzAfG3tKW_8KE-jxaHSsAerIW1ql8V1v_VSH0VnRppxp4ELr-sa2SlGld07WZNSCmfqnrNzvA=='\n",
            "  )\n",
            ")] grounding_supports=[GroundingSupport(\n",
            "  grounding_chunk_indices=[\n",
            "    0,\n",
            "    1,\n",
            "    2,\n",
            "    3,\n",
            "    4,\n",
            "  ],\n",
            "  segment=Segment(\n",
            "    end_index=181,\n",
            "    text='As of July 25, 2025, the State Bank of India (SBI) share price is approximately ₹806.50 to ₹806.55 on both the National Stock Exchange (NSE) and the Bombay Stock Exchange (BSE).'\n",
            "  )\n",
            "), GroundingSupport(\n",
            "  grounding_chunk_indices=[\n",
            "    0,\n",
            "    2,\n",
            "  ],\n",
            "  segment=Segment(\n",
            "    end_index=269,\n",
            "    start_index=182,\n",
            "    text='This represents a decrease of around 1.13% to 1.15% compared to its last closing price.'\n",
            "  )\n",
            "), GroundingSupport(\n",
            "  grounding_chunk_indices=[\n",
            "    5,\n",
            "  ],\n",
            "  segment=Segment(\n",
            "    end_index=394,\n",
            "    start_index=271,\n",
            "    text=\"\"\"Here are some additional details:\n",
            "*   The 52-week low for SBI share price was ₹679.65 and the 52-week high was ₹889.00.\"\"\"\n",
            "  )\n",
            "), GroundingSupport(\n",
            "  grounding_chunk_indices=[\n",
            "    0,\n",
            "  ],\n",
            "  segment=Segment(\n",
            "    end_index=475,\n",
            "    start_index=395,\n",
            "    text='*   The market capitalization of State Bank of India is around ₹4,57,609.5 Cr.'\n",
            "  )\n",
            "), GroundingSupport(\n",
            "  grounding_chunk_indices=[\n",
            "    0,\n",
            "  ],\n",
            "  segment=Segment(\n",
            "    end_index=536,\n",
            "    start_index=476,\n",
            "    text=\"*   The stock's TTM P/E is 8.88, and the sector P/E is 9.31.\"\n",
            "  )\n",
            "), GroundingSupport(\n",
            "  grounding_chunk_indices=[\n",
            "    0,\n",
            "  ],\n",
            "  segment=Segment(\n",
            "    end_index=569,\n",
            "    start_index=537,\n",
            "    text='*   The dividend yield is 1.95%.'\n",
            "  )\n",
            ")] retrieval_metadata=None retrieval_queries=None search_entry_point=SearchEntryPoint(\n",
            "  rendered_content=\"\"\"<style>\n",
            ".container {\n",
            "  align-items: center;\n",
            "  border-radius: 8px;\n",
            "  display: flex;\n",
            "  font-family: Google Sans, Roboto, sans-serif;\n",
            "  font-size: 14px;\n",
            "  line-height: 20px;\n",
            "  padding: 8px 12px;\n",
            "}\n",
            ".chip {\n",
            "  display: inline-block;\n",
            "  border: solid 1px;\n",
            "  border-radius: 16px;\n",
            "  min-width: 14px;\n",
            "  padding: 5px 16px;\n",
            "  text-align: center;\n",
            "  user-select: none;\n",
            "  margin: 0 8px;\n",
            "  -webkit-tap-highlight-color: transparent;\n",
            "}\n",
            ".carousel {\n",
            "  overflow: auto;\n",
            "  scrollbar-width: none;\n",
            "  white-space: nowrap;\n",
            "  margin-right: -12px;\n",
            "}\n",
            ".headline {\n",
            "  display: flex;\n",
            "  margin-right: 4px;\n",
            "}\n",
            ".gradient-container {\n",
            "  position: relative;\n",
            "}\n",
            ".gradient {\n",
            "  position: absolute;\n",
            "  transform: translate(3px, -9px);\n",
            "  height: 36px;\n",
            "  width: 9px;\n",
            "}\n",
            "@media (prefers-color-scheme: light) {\n",
            "  .container {\n",
            "    background-color: #fafafa;\n",
            "    box-shadow: 0 0 0 1px #0000000f;\n",
            "  }\n",
            "  .headline-label {\n",
            "    color: #1f1f1f;\n",
            "  }\n",
            "  .chip {\n",
            "    background-color: #ffffff;\n",
            "    border-color: #d2d2d2;\n",
            "    color: #5e5e5e;\n",
            "    text-decoration: none;\n",
            "  }\n",
            "  .chip:hover {\n",
            "    background-color: #f2f2f2;\n",
            "  }\n",
            "  .chip:focus {\n",
            "    background-color: #f2f2f2;\n",
            "  }\n",
            "  .chip:active {\n",
            "    background-color: #d8d8d8;\n",
            "    border-color: #b6b6b6;\n",
            "  }\n",
            "  .logo-dark {\n",
            "    display: none;\n",
            "  }\n",
            "  .gradient {\n",
            "    background: linear-gradient(90deg, #fafafa 15%, #fafafa00 100%);\n",
            "  }\n",
            "}\n",
            "@media (prefers-color-scheme: dark) {\n",
            "  .container {\n",
            "    background-color: #1f1f1f;\n",
            "    box-shadow: 0 0 0 1px #ffffff26;\n",
            "  }\n",
            "  .headline-label {\n",
            "    color: #fff;\n",
            "  }\n",
            "  .chip {\n",
            "    background-color: #2c2c2c;\n",
            "    border-color: #3c4043;\n",
            "    color: #fff;\n",
            "    text-decoration: none;\n",
            "  }\n",
            "  .chip:hover {\n",
            "    background-color: #353536;\n",
            "  }\n",
            "  .chip:focus {\n",
            "    background-color: #353536;\n",
            "  }\n",
            "  .chip:active {\n",
            "    background-color: #464849;\n",
            "    border-color: #53575b;\n",
            "  }\n",
            "  .logo-light {\n",
            "    display: none;\n",
            "  }\n",
            "  .gradient {\n",
            "    background: linear-gradient(90deg, #1f1f1f 15%, #1f1f1f00 100%);\n",
            "  }\n",
            "}\n",
            "</style>\n",
            "<div class=\"container\">\n",
            "  <div class=\"headline\">\n",
            "    <svg class=\"logo-light\" width=\"18\" height=\"18\" viewBox=\"9 9 35 35\" fill=\"none\" xmlns=\"http://www.w3.org/2000/svg\">\n",
            "      <path fill-rule=\"evenodd\" clip-rule=\"evenodd\" d=\"M42.8622 27.0064C42.8622 25.7839 42.7525 24.6084 42.5487 23.4799H26.3109V30.1568H35.5897C35.1821 32.3041 33.9596 34.1222 32.1258 35.3448V39.6864H37.7213C40.9814 36.677 42.8622 32.2571 42.8622 27.0064V27.0064Z\" fill=\"#4285F4\"/>\n",
            "      <path fill-rule=\"evenodd\" clip-rule=\"evenodd\" d=\"M26.3109 43.8555C30.9659 43.8555 34.8687 42.3195 37.7213 39.6863L32.1258 35.3447C30.5898 36.3792 28.6306 37.0061 26.3109 37.0061C21.8282 37.0061 18.0195 33.9811 16.6559 29.906H10.9194V34.3573C13.7563 39.9841 19.5712 43.8555 26.3109 43.8555V43.8555Z\" fill=\"#34A853\"/>\n",
            "      <path fill-rule=\"evenodd\" clip-rule=\"evenodd\" d=\"M16.6559 29.8904C16.3111 28.8559 16.1074 27.7588 16.1074 26.6146C16.1074 25.4704 16.3111 24.3733 16.6559 23.3388V18.8875H10.9194C9.74388 21.2072 9.06992 23.8247 9.06992 26.6146C9.06992 29.4045 9.74388 32.022 10.9194 34.3417L15.3864 30.8621L16.6559 29.8904V29.8904Z\" fill=\"#FBBC05\"/>\n",
            "      <path fill-rule=\"evenodd\" clip-rule=\"evenodd\" d=\"M26.3109 16.2386C28.85 16.2386 31.107 17.1164 32.9095 18.8091L37.8466 13.8719C34.853 11.082 30.9659 9.3736 26.3109 9.3736C19.5712 9.3736 13.7563 13.245 10.9194 18.8875L16.6559 23.3388C18.0195 19.2636 21.8282 16.2386 26.3109 16.2386V16.2386Z\" fill=\"#EA4335\"/>\n",
            "    </svg>\n",
            "    <svg class=\"logo-dark\" width=\"18\" height=\"18\" viewBox=\"0 0 48 48\" xmlns=\"http://www.w3.org/2000/svg\">\n",
            "      <circle cx=\"24\" cy=\"23\" fill=\"#FFF\" r=\"22\"/>\n",
            "      <path d=\"M33.76 34.26c2.75-2.56 4.49-6.37 4.49-11.26 0-.89-.08-1.84-.29-3H24.01v5.99h8.03c-.4 2.02-1.5 3.56-3.07 4.56v.75l3.91 2.97h.88z\" fill=\"#4285F4\"/>\n",
            "      <path d=\"M15.58 25.77A8.845 8.845 0 0 0 24 31.86c1.92 0 3.62-.46 4.97-1.31l4.79 3.71C31.14 36.7 27.65 38 24 38c-5.93 0-11.01-3.4-13.45-8.36l.17-1.01 4.06-2.85h.8z\" fill=\"#34A853\"/>\n",
            "      <path d=\"M15.59 20.21a8.864 8.864 0 0 0 0 5.58l-5.03 3.86c-.98-2-1.53-4.25-1.53-6.64 0-2.39.55-4.64 1.53-6.64l1-.22 3.81 2.98.22 1.08z\" fill=\"#FBBC05\"/>\n",
            "      <path d=\"M24 14.14c2.11 0 4.02.75 5.52 1.98l4.36-4.36C31.22 9.43 27.81 8 24 8c-5.93 0-11.01 3.4-13.45 8.36l5.03 3.85A8.86 8.86 0 0 1 24 14.14z\" fill=\"#EA4335\"/>\n",
            "    </svg>\n",
            "    <div class=\"gradient-container\"><div class=\"gradient\"></div></div>\n",
            "  </div>\n",
            "  <div class=\"carousel\">\n",
            "    <a class=\"chip\" href=\"https://vertexaisearch.cloud.google.com/grounding-api-redirect/AUZIYQHa9sqSf91crjnuY531sZNGkygaqlDf0q0aGNkJ9UyFWyjANXfBy03Yz87cqWFCR97N5hcgc9yL3z9P-WmCgvOq0zeJBHrbQCOTchpupAF6diC_P71_kitJWLheaXsuVzHArVsWZVi6x3UoijxzWQTXGzQwl0osZLCNNLaHNywBbcChCbf1QNhFDnwVha6DhAQkA47pTcKH_TcPGHw=\">SBI share price today NSE</a>\n",
            "    <a class=\"chip\" href=\"https://vertexaisearch.cloud.google.com/grounding-api-redirect/AUZIYQGBcKGRApcGFJ0vo60m20j1ZOHcx4Qufha3z2cemghgAF8KkOZnl9W5hPKxrdICc-n-mPGi1av-zAaWc21D19xlJMxpRmx2yCC_dxWWu76rvPlyOgzm4DWkoiumxhB-DLUKtK2O_tKSLNUOB6vfibVwStEpCvMk7qJO8HUf_ndwTdXDVwtGVaJEACXgf0c-oEO3k0aRl-n3CWu0AME=\">SBI share price today BSE</a>\n",
            "  </div>\n",
            "</div>\n",
            "\"\"\"\n",
            ") web_search_queries=['SBI share price today NSE', 'SBI share price today BSE']\n"
          ]
        },
        {
          "data": {
            "text/html": [
              "<style>\n",
              ".container {\n",
              "  align-items: center;\n",
              "  border-radius: 8px;\n",
              "  display: flex;\n",
              "  font-family: Google Sans, Roboto, sans-serif;\n",
              "  font-size: 14px;\n",
              "  line-height: 20px;\n",
              "  padding: 8px 12px;\n",
              "}\n",
              ".chip {\n",
              "  display: inline-block;\n",
              "  border: solid 1px;\n",
              "  border-radius: 16px;\n",
              "  min-width: 14px;\n",
              "  padding: 5px 16px;\n",
              "  text-align: center;\n",
              "  user-select: none;\n",
              "  margin: 0 8px;\n",
              "  -webkit-tap-highlight-color: transparent;\n",
              "}\n",
              ".carousel {\n",
              "  overflow: auto;\n",
              "  scrollbar-width: none;\n",
              "  white-space: nowrap;\n",
              "  margin-right: -12px;\n",
              "}\n",
              ".headline {\n",
              "  display: flex;\n",
              "  margin-right: 4px;\n",
              "}\n",
              ".gradient-container {\n",
              "  position: relative;\n",
              "}\n",
              ".gradient {\n",
              "  position: absolute;\n",
              "  transform: translate(3px, -9px);\n",
              "  height: 36px;\n",
              "  width: 9px;\n",
              "}\n",
              "@media (prefers-color-scheme: light) {\n",
              "  .container {\n",
              "    background-color: #fafafa;\n",
              "    box-shadow: 0 0 0 1px #0000000f;\n",
              "  }\n",
              "  .headline-label {\n",
              "    color: #1f1f1f;\n",
              "  }\n",
              "  .chip {\n",
              "    background-color: #ffffff;\n",
              "    border-color: #d2d2d2;\n",
              "    color: #5e5e5e;\n",
              "    text-decoration: none;\n",
              "  }\n",
              "  .chip:hover {\n",
              "    background-color: #f2f2f2;\n",
              "  }\n",
              "  .chip:focus {\n",
              "    background-color: #f2f2f2;\n",
              "  }\n",
              "  .chip:active {\n",
              "    background-color: #d8d8d8;\n",
              "    border-color: #b6b6b6;\n",
              "  }\n",
              "  .logo-dark {\n",
              "    display: none;\n",
              "  }\n",
              "  .gradient {\n",
              "    background: linear-gradient(90deg, #fafafa 15%, #fafafa00 100%);\n",
              "  }\n",
              "}\n",
              "@media (prefers-color-scheme: dark) {\n",
              "  .container {\n",
              "    background-color: #1f1f1f;\n",
              "    box-shadow: 0 0 0 1px #ffffff26;\n",
              "  }\n",
              "  .headline-label {\n",
              "    color: #fff;\n",
              "  }\n",
              "  .chip {\n",
              "    background-color: #2c2c2c;\n",
              "    border-color: #3c4043;\n",
              "    color: #fff;\n",
              "    text-decoration: none;\n",
              "  }\n",
              "  .chip:hover {\n",
              "    background-color: #353536;\n",
              "  }\n",
              "  .chip:focus {\n",
              "    background-color: #353536;\n",
              "  }\n",
              "  .chip:active {\n",
              "    background-color: #464849;\n",
              "    border-color: #53575b;\n",
              "  }\n",
              "  .logo-light {\n",
              "    display: none;\n",
              "  }\n",
              "  .gradient {\n",
              "    background: linear-gradient(90deg, #1f1f1f 15%, #1f1f1f00 100%);\n",
              "  }\n",
              "}\n",
              "</style>\n",
              "<div class=\"container\">\n",
              "  <div class=\"headline\">\n",
              "    <svg class=\"logo-light\" width=\"18\" height=\"18\" viewBox=\"9 9 35 35\" fill=\"none\" xmlns=\"http://www.w3.org/2000/svg\">\n",
              "      <path fill-rule=\"evenodd\" clip-rule=\"evenodd\" d=\"M42.8622 27.0064C42.8622 25.7839 42.7525 24.6084 42.5487 23.4799H26.3109V30.1568H35.5897C35.1821 32.3041 33.9596 34.1222 32.1258 35.3448V39.6864H37.7213C40.9814 36.677 42.8622 32.2571 42.8622 27.0064V27.0064Z\" fill=\"#4285F4\"/>\n",
              "      <path fill-rule=\"evenodd\" clip-rule=\"evenodd\" d=\"M26.3109 43.8555C30.9659 43.8555 34.8687 42.3195 37.7213 39.6863L32.1258 35.3447C30.5898 36.3792 28.6306 37.0061 26.3109 37.0061C21.8282 37.0061 18.0195 33.9811 16.6559 29.906H10.9194V34.3573C13.7563 39.9841 19.5712 43.8555 26.3109 43.8555V43.8555Z\" fill=\"#34A853\"/>\n",
              "      <path fill-rule=\"evenodd\" clip-rule=\"evenodd\" d=\"M16.6559 29.8904C16.3111 28.8559 16.1074 27.7588 16.1074 26.6146C16.1074 25.4704 16.3111 24.3733 16.6559 23.3388V18.8875H10.9194C9.74388 21.2072 9.06992 23.8247 9.06992 26.6146C9.06992 29.4045 9.74388 32.022 10.9194 34.3417L15.3864 30.8621L16.6559 29.8904V29.8904Z\" fill=\"#FBBC05\"/>\n",
              "      <path fill-rule=\"evenodd\" clip-rule=\"evenodd\" d=\"M26.3109 16.2386C28.85 16.2386 31.107 17.1164 32.9095 18.8091L37.8466 13.8719C34.853 11.082 30.9659 9.3736 26.3109 9.3736C19.5712 9.3736 13.7563 13.245 10.9194 18.8875L16.6559 23.3388C18.0195 19.2636 21.8282 16.2386 26.3109 16.2386V16.2386Z\" fill=\"#EA4335\"/>\n",
              "    </svg>\n",
              "    <svg class=\"logo-dark\" width=\"18\" height=\"18\" viewBox=\"0 0 48 48\" xmlns=\"http://www.w3.org/2000/svg\">\n",
              "      <circle cx=\"24\" cy=\"23\" fill=\"#FFF\" r=\"22\"/>\n",
              "      <path d=\"M33.76 34.26c2.75-2.56 4.49-6.37 4.49-11.26 0-.89-.08-1.84-.29-3H24.01v5.99h8.03c-.4 2.02-1.5 3.56-3.07 4.56v.75l3.91 2.97h.88z\" fill=\"#4285F4\"/>\n",
              "      <path d=\"M15.58 25.77A8.845 8.845 0 0 0 24 31.86c1.92 0 3.62-.46 4.97-1.31l4.79 3.71C31.14 36.7 27.65 38 24 38c-5.93 0-11.01-3.4-13.45-8.36l.17-1.01 4.06-2.85h.8z\" fill=\"#34A853\"/>\n",
              "      <path d=\"M15.59 20.21a8.864 8.864 0 0 0 0 5.58l-5.03 3.86c-.98-2-1.53-4.25-1.53-6.64 0-2.39.55-4.64 1.53-6.64l1-.22 3.81 2.98.22 1.08z\" fill=\"#FBBC05\"/>\n",
              "      <path d=\"M24 14.14c2.11 0 4.02.75 5.52 1.98l4.36-4.36C31.22 9.43 27.81 8 24 8c-5.93 0-11.01 3.4-13.45 8.36l5.03 3.85A8.86 8.86 0 0 1 24 14.14z\" fill=\"#EA4335\"/>\n",
              "    </svg>\n",
              "    <div class=\"gradient-container\"><div class=\"gradient\"></div></div>\n",
              "  </div>\n",
              "  <div class=\"carousel\">\n",
              "    <a class=\"chip\" href=\"https://vertexaisearch.cloud.google.com/grounding-api-redirect/AUZIYQHa9sqSf91crjnuY531sZNGkygaqlDf0q0aGNkJ9UyFWyjANXfBy03Yz87cqWFCR97N5hcgc9yL3z9P-WmCgvOq0zeJBHrbQCOTchpupAF6diC_P71_kitJWLheaXsuVzHArVsWZVi6x3UoijxzWQTXGzQwl0osZLCNNLaHNywBbcChCbf1QNhFDnwVha6DhAQkA47pTcKH_TcPGHw=\">SBI share price today NSE</a>\n",
              "    <a class=\"chip\" href=\"https://vertexaisearch.cloud.google.com/grounding-api-redirect/AUZIYQGBcKGRApcGFJ0vo60m20j1ZOHcx4Qufha3z2cemghgAF8KkOZnl9W5hPKxrdICc-n-mPGi1av-zAaWc21D19xlJMxpRmx2yCC_dxWWu76rvPlyOgzm4DWkoiumxhB-DLUKtK2O_tKSLNUOB6vfibVwStEpCvMk7qJO8HUf_ndwTdXDVwtGVaJEACXgf0c-oEO3k0aRl-n3CWu0AME=\">SBI share price today BSE</a>\n",
              "  </div>\n",
              "</div>\n"
            ],
            "text/plain": [
              "<IPython.core.display.HTML object>"
            ]
          },
          "execution_count": 42,
          "metadata": {},
          "output_type": "execute_result"
        }
      ],
      "source": [
        "google_search_tool=Tool(google_search=GoogleSearch())\n",
        "response=client.models.generate_content(\n",
        "    model=MODEL_ID,\n",
        "    contents=\"What is the sbi value today\",\n",
        "    config=GenerateContentConfig(\n",
        "        tools=[google_search_tool]),\n",
        ")\n",
        "display(Markdown(response.text))\n",
        "print(response.candidates[0].grounding_metadata)\n",
        "HTML(response.candidates[0].grounding_metadata.search_entry_point.rendered_content)"
      ]
    },
    {
      "cell_type": "code",
      "source": [
        "#build a chatbot for AJIET\n",
        "\n",
        "!pip install -q google-generativeai gradio pillow"
      ],
      "metadata": {
        "id": "xmo0SRARl8sz"
      },
      "execution_count": 5,
      "outputs": []
    },
    {
      "cell_type": "code",
      "source": [
        "import google.genai as genai\n",
        "from google.colab import userdata\n",
        "GOOGLE_API_KEY = userdata.get('GOOGLE_API_KEY')\n",
        "client = genai.Client(api_key=GOOGLE_API_KEY)"
      ],
      "metadata": {
        "id": "jzSxpUaal9EU"
      },
      "execution_count": 6,
      "outputs": []
    },
    {
      "cell_type": "code",
      "source": [
        "from logging import debug\n",
        "import gradio as gr\n",
        "from google.colab import userdata\n",
        "from google import genai\n",
        "from google.genai.types import (\n",
        "    Tool,GoogleSearch,\n",
        "    GenerateContentConfig,\n",
        "    Content,\n",
        "    Part\n",
        ")\n",
        "\n",
        "#import the model\n",
        "MODEL_ID=\"gemini-2.5-flash\"\n",
        "\n",
        "#set the Tool\n",
        "google_search_tool=Tool(google_search=GoogleSearch())\n",
        "\n",
        "system_instruction=\"\"\"You are Ajiet Bot, the friendly and knowledgeable virtual assistant for the A.J. Institute of Engineering and Technology (AJIET) help desk. Your primary purpose is to provide accurate and helpful information about the institution, its programs, facilities, and general processes to prospective students, current students, parents, and the general public.\n",
        "\n",
        "*Persona & Tone:*\n",
        "*   Be welcoming, professional, and informative.\n",
        "*   Maintain a polite, clear, and concise communication style.\n",
        "*   Emphasize helpfulness and a positive representation of AJIET.\n",
        "\n",
        "*Knowledge & Context:*\n",
        "*   Your responses must be based solely on official information pertaining to A.J. Institute of Engineering and Technology, as found on its official website (www.ajiet.edu.in) and other reliable institutional data.\n",
        "*   Do not invent, speculate, or \"hallucinate\" information. If you do not have the answer, politely state that and guide the user on how to find it or whom to contact.\n",
        "\n",
        "*Key Information Areas You Can Cover:*\n",
        "*   *About AJIET:* General information about the institute, its establishment (2016), affiliation (VTU, AICTE), mission, and values. [2, 4, 6]\n",
        "*   *Academic Programs:* Details on B.E./B.Tech specializations (Civil, Computer Science & Engineering, ECE, ISE, Mechanical, CSE with AI & ML), MBA, MCA, and PhD programs. [2, 4, 5, 7, 8]\n",
        "*   *Admissions:* General overview of the admission process, eligibility criteria, and directing users to the official admissions page for application specifics. [4, 5]\n",
        "*   *Departments:* Information about the various engineering departments, Basic Science and Humanity, MBA, and MCA. [2, 7, 8]\n",
        "*   *Campus Facilities:* Details on facilities like hostels, laboratories, canteen, gym, medical services, library, sports, and student clubs. [5, 10]\n",
        "*   *Placements & Career Guidance:* General information about the Training & Placement Department, its objectives, and success rates (referencing median salaries if specifically requested and available in your knowledge base). [4, 9]\n",
        "*   *Events & Activities:* Information about workshops, technical talks, fests (like 'AJIET AAKAR'), cultural days, and other campus activities. [3, 10]\n",
        "*   *Contact Information:* Directing users to the official contact page, admissions office, or specific department contacts for detailed queries.\n",
        "\n",
        "*Capabilities:*\n",
        "*   *Answer FAQs:* Provide direct answers to common questions about AJIET.\n",
        "*   *Information Retrieval:* Extract and present relevant details from the provided knowledge base.\n",
        "*   *Clarification:* Ask clarifying questions if a user's query is ambiguous (e.g., \"Are you asking about B.E. Civil Engineering or the Civil Engineering Department in general?\").\n",
        "\n",
        "*Limitations & Escalation Protocol:*\n",
        "*   *Do not process applications, registrations, or handle sensitive personal information.*\n",
        "*   *Do not provide real-time updates on individual student records, application statuses, or financial transactions.*\n",
        "*   *Escalate when necessary:* If a query requires personal data, specific application support, financial details, or a human decision, you *must* inform the user that you cannot assist directly.\n",
        "    *   Politely state your limitation (e.g., \"I cannot access individual application details.\").\n",
        "    *   Direct the user to the appropriate official resource (e.g., \"For detailed admission inquiries or to check your application status, please visit the Admissions section of our website at www.ajiet.edu.in/admissions or contact the admissions office directly via [phone number/email].\").\n",
        "    *   For general information that is missing from your knowledge base, you can suggest: \"I don't have that specific information at the moment, but you might find it on our official website or by contacting the relevant department.\"\n",
        "\n",
        "*Response Format & Guidelines:*\n",
        "*   Keep responses concise and easy to read.\n",
        "*   Use bullet points or numbered lists for presenting multiple pieces of information or steps.\n",
        "*   Always conclude by offering further assistance: \"Is there anything else I can help you with regarding AJIET?\n",
        "* \"\"\"\n",
        "\n",
        "#initialize\n",
        "chat_history=[]\n",
        "\n",
        "#define the chat function\n",
        "def ground_chat(user_input,history):\n",
        "  global chat_history\n",
        "  try:\n",
        "    #add user message as part object\n",
        "    user_message=Content(role=\"user\", parts=[Part(text=user_input)])\n",
        "    chat_history.append(user_message)\n",
        "    #generate response using tool\n",
        "    response  = client.models.generate_content(\n",
        "        model=MODEL_ID,\n",
        "        contents=chat_history,\n",
        "        config=GenerateContentConfig(\n",
        "            tools=[google_search_tool],\n",
        "            system_instruction=system_instruction\n",
        "        )\n",
        "    )\n",
        "    #add model response\n",
        "    model_reply=Content(role=\"model\", parts=[Part(text=response.text)])\n",
        "    chat_history.append(model_reply)\n",
        "    return response.text\n",
        "  except Exception as e:\n",
        "    return str(e)\n",
        "\n",
        "    #gradio chat interface\n",
        "gr.ChatInterface(\n",
        "    fn=ground_chat,\n",
        "    title=\"Ajiet Help Desk with google search grounding\",\n",
        "    theme=\"default\"\n",
        "    ).launch(share=True,debug=True)"
      ],
      "metadata": {
        "colab": {
          "base_uri": "https://localhost:8080/",
          "height": 698
        },
        "id": "58UusED0l9Qn",
        "outputId": "f4b5ef65-68dc-4e1e-b37c-0ebe2c658905"
      },
      "execution_count": 7,
      "outputs": [
        {
          "output_type": "stream",
          "name": "stderr",
          "text": [
            "/usr/local/lib/python3.11/dist-packages/gradio/chat_interface.py:345: UserWarning: The 'tuples' format for chatbot messages is deprecated and will be removed in a future version of Gradio. Please set type='messages' instead, which uses openai-style 'role' and 'content' keys.\n",
            "  self.chatbot = Chatbot(\n"
          ]
        },
        {
          "output_type": "stream",
          "name": "stdout",
          "text": [
            "Colab notebook detected. This cell will run indefinitely so that you can see errors and logs. To turn off, set debug=False in launch().\n",
            "* Running on public URL: https://a6ca1c7c72ec25a296.gradio.live\n",
            "\n",
            "This share link expires in 1 week. For free permanent hosting and GPU upgrades, run `gradio deploy` from the terminal in the working directory to deploy to Hugging Face Spaces (https://huggingface.co/spaces)\n"
          ]
        },
        {
          "output_type": "display_data",
          "data": {
            "text/plain": [
              "<IPython.core.display.HTML object>"
            ],
            "text/html": [
              "<div><iframe src=\"https://a6ca1c7c72ec25a296.gradio.live\" width=\"100%\" height=\"500\" allow=\"autoplay; camera; microphone; clipboard-read; clipboard-write;\" frameborder=\"0\" allowfullscreen></iframe></div>"
            ]
          },
          "metadata": {}
        },
        {
          "output_type": "stream",
          "name": "stdout",
          "text": [
            "Keyboard interruption in main thread... closing server.\n",
            "Killing tunnel 127.0.0.1:7860 <> https://e82b35484af2a6e9bf.gradio.live\n",
            "Killing tunnel 127.0.0.1:7860 <> https://a6ca1c7c72ec25a296.gradio.live\n"
          ]
        },
        {
          "output_type": "execute_result",
          "data": {
            "text/plain": []
          },
          "metadata": {},
          "execution_count": 7
        }
      ]
    },
    {
      "cell_type": "code",
      "source": [],
      "metadata": {
        "id": "QNbI9eOOmFv6"
      },
      "execution_count": null,
      "outputs": []
    }
  ],
  "metadata": {
    "colab": {
      "provenance": [],
      "authorship_tag": "ABX9TyMzHXnHVSB7c641lvIXBYfU",
      "include_colab_link": true
    },
    "kernelspec": {
      "display_name": "Python 3",
      "name": "python3"
    },
    "language_info": {
      "name": "python"
    }
  },
  "nbformat": 4,
  "nbformat_minor": 0
}